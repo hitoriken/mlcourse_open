{
 "cells": [
  {
   "cell_type": "markdown",
   "metadata": {},
   "source": [
    "# Программирование\n",
    "## Основные команды Python"
   ]
  },
  {
   "cell_type": "code",
   "execution_count": 1,
   "metadata": {
    "collapsed": true
   },
   "outputs": [],
   "source": [
    "import pandas as pd"
   ]
  },
  {
   "cell_type": "code",
   "execution_count": 12,
   "metadata": {},
   "outputs": [],
   "source": [
    "#0 - ключевые слова, 1 - операторы и функции, 2 - формат чисел, 3 - битовые операторы целых \n",
    "# 4 - math, 5 - экранирование, 6 - STRING, 7 - .format{}, 8 -LIST, 9 - множества, 10 - DICT, 11-итераторы\n",
    "df = pd.read_excel('Python.xlsx', 6)"
   ]
  },
  {
   "cell_type": "code",
   "execution_count": 18,
   "metadata": {},
   "outputs": [
    {
     "data": {
      "text/html": [
       "<div>\n",
       "<style>\n",
       "    .dataframe thead tr:only-child th {\n",
       "        text-align: right;\n",
       "    }\n",
       "\n",
       "    .dataframe thead th {\n",
       "        text-align: left;\n",
       "    }\n",
       "\n",
       "    .dataframe tbody tr th {\n",
       "        vertical-align: top;\n",
       "    }\n",
       "</style>\n",
       "<table border=\"1\" class=\"dataframe\">\n",
       "  <thead>\n",
       "    <tr style=\"text-align: right;\">\n",
       "      <th></th>\n",
       "      <th>Синтаксис</th>\n",
       "      <th>Описание</th>\n",
       "    </tr>\n",
       "  </thead>\n",
       "  <tbody>\n",
       "    <tr>\n",
       "      <th>0</th>\n",
       "      <td>s.capitalize()</td>\n",
       "      <td>Возвращает копию строки s с первым символом в ...</td>\n",
       "    </tr>\n",
       "    <tr>\n",
       "      <th>1</th>\n",
       "      <td>s.center(width, char)</td>\n",
       "      <td>Возвращает копию строки s, отцентрированную в ...</td>\n",
       "    </tr>\n",
       "    <tr>\n",
       "      <th>2</th>\n",
       "      <td>s.count(t, start, end)</td>\n",
       "      <td>Возвращает число вхождений строки t в строку s...</td>\n",
       "    </tr>\n",
       "    <tr>\n",
       "      <th>3</th>\n",
       "      <td>s.encode( encoding, err)</td>\n",
       "      <td>Возвращает объект типа bytes, представляющий с...</td>\n",
       "    </tr>\n",
       "    <tr>\n",
       "      <th>4</th>\n",
       "      <td>s.endswith(x, start, end)</td>\n",
       "      <td>Возвращает True, если строка s (или срез строк...</td>\n",
       "    </tr>\n",
       "  </tbody>\n",
       "</table>\n",
       "</div>"
      ],
      "text/plain": [
       "                   Синтаксис  \\\n",
       "0             s.capitalize()   \n",
       "1      s.center(width, char)   \n",
       "2     s.count(t, start, end)   \n",
       "3   s.encode( encoding, err)   \n",
       "4  s.endswith(x, start, end)   \n",
       "\n",
       "                                            Описание  \n",
       "0  Возвращает копию строки s с первым символом в ...  \n",
       "1  Возвращает копию строки s, отцентрированную в ...  \n",
       "2  Возвращает число вхождений строки t в строку s...  \n",
       "3  Возвращает объект типа bytes, представляющий с...  \n",
       "4  Возвращает True, если строка s (или срез строк...  "
      ]
     },
     "execution_count": 18,
     "metadata": {},
     "output_type": "execute_result"
    }
   ],
   "source": [
    "df.head()"
   ]
  },
  {
   "cell_type": "markdown",
   "metadata": {},
   "source": [
    "### Пример {} .format() и enumerate()"
   ]
  },
  {
   "cell_type": "code",
   "execution_count": 17,
   "metadata": {},
   "outputs": [
    {
     "name": "stdout",
     "output_type": "stream",
     "text": [
      "0 th letter in list is a\n",
      "1 th letter in list is e\n",
      "2 th letter in list is i\n",
      "3 th letter in list is o\n",
      "4 th letter in list is u\n"
     ]
    }
   ],
   "source": [
    "L1 = ['a','e','i','o','u']\n",
    "for i in enumerate(L1):\n",
    "    print ('{} th letter in list is {}'.format(i[0],i[1]))"
   ]
  },
  {
   "cell_type": "markdown",
   "metadata": {},
   "source": [
    "## Функции"
   ]
  },
  {
   "cell_type": "code",
   "execution_count": 19,
   "metadata": {},
   "outputs": [
    {
     "data": {
      "text/plain": [
       "720"
      ]
     },
     "execution_count": 19,
     "metadata": {},
     "output_type": "execute_result"
    }
   ],
   "source": [
    "def fact (n):\n",
    "    if n == 1:\n",
    "        return n\n",
    "    else:\n",
    "        return n * fact(n-1)\n",
    "fact(6)"
   ]
  },
  {
   "cell_type": "code",
   "execution_count": 24,
   "metadata": {},
   "outputs": [
    {
     "name": "stdout",
     "output_type": "stream",
     "text": [
      "Move from P1 to P3\n",
      "Move from P1 to P2\n",
      "Move from P3 to P2\n",
      "Move from P1 to P3\n",
      "Move from P2 to P1\n",
      "Move from P2 to P3\n",
      "Move from P1 to P3\n",
      "Move from P1 to P2\n",
      "Move from P3 to P2\n",
      "Move from P3 to P1\n",
      "Move from P2 to P1\n",
      "Move from P3 to P2\n",
      "Move from P1 to P3\n",
      "Move from P1 to P2\n",
      "Move from P3 to P2\n"
     ]
    }
   ],
   "source": [
    "#Hanoi Tower\n",
    "def printMove (fr, to):\n",
    "    print('Move from '+str(fr)+' to '+str(to))\n",
    "def towers (n, fr, to, spare):\n",
    "    if n == 1:\n",
    "        printMove(fr,to)\n",
    "    else:\n",
    "        towers(n-1, fr, spare, to)\n",
    "        towers(1, fr, to, spare)\n",
    "        towers(n-1, spare, to, fr)\n",
    "towers(4,'P1','P2','P3')"
   ]
  },
  {
   "cell_type": "code",
   "execution_count": 32,
   "metadata": {},
   "outputs": [
    {
     "data": {
      "text/plain": [
       "233"
      ]
     },
     "execution_count": 32,
     "metadata": {},
     "output_type": "execute_result"
    }
   ],
   "source": [
    "#if n ==0 or n==1 return 1 else return fib(n-1)+fib(n-2)\n",
    "def fib (n,d):\n",
    "    if n in d:\n",
    "        return d[n]\n",
    "    else:\n",
    "        ans = fib(n-1, d)+fib(n-2, d)\n",
    "        d[n] = ans\n",
    "        return ans\n",
    "d = {1:1, 2:2}\n",
    "fib(12,d)"
   ]
  },
  {
   "cell_type": "code",
   "execution_count": 30,
   "metadata": {},
   "outputs": [
    {
     "data": {
      "text/plain": [
       "True"
      ]
     },
     "execution_count": 30,
     "metadata": {},
     "output_type": "execute_result"
    }
   ],
   "source": [
    "def isPalindrome(s):\n",
    "    def toChars (s):\n",
    "        s = s.lower()\n",
    "        ans = ''\n",
    "        for c in s:\n",
    "            if c.isalpha():\n",
    "                ans += c\n",
    "        return ans\n",
    "\n",
    "    def isPal(s):\n",
    "        if len(s)<=1:\n",
    "            return True\n",
    "        else:\n",
    "            return s[0] == s[-1] and isPal(s[1:-1])\n",
    "    return isPal(toChars(s)) \n",
    "isPalindrome('here er eh')"
   ]
  }
 ],
 "metadata": {
  "kernelspec": {
   "display_name": "Python 3",
   "language": "python",
   "name": "python3"
  },
  "language_info": {
   "codemirror_mode": {
    "name": "ipython",
    "version": 3
   },
   "file_extension": ".py",
   "mimetype": "text/x-python",
   "name": "python",
   "nbconvert_exporter": "python",
   "pygments_lexer": "ipython3",
   "version": "3.6.3"
  }
 },
 "nbformat": 4,
 "nbformat_minor": 2
}
